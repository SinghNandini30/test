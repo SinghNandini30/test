{
 "cells": [
  {
   "cell_type": "code",
   "execution_count": 3,
   "id": "cdc8f25d",
   "metadata": {},
   "outputs": [
    {
     "name": "stdout",
     "output_type": "stream",
     "text": [
      "are you hungry?yes\n",
      "eat samosa\n",
      "eat pizza\n"
     ]
    }
   ],
   "source": [
    "hungry= input(\"are you hungry?\")\n",
    "if hungry==\"yes\":\n",
    "    print(\"eat samosa\")\n",
    "    print(\"eat pizza\")\n",
    "    print(\"eat lun\")\n",
    "else:\n",
    "    thirsty=input(\"are you thirsty\")\n",
    "    if thirsty== \"yes\":\n",
    "        print(\"drink water\")\n",
    "    print(\"do your work\")"
   ]
  },
  {
   "cell_type": "code",
   "execution_count": null,
   "id": "63b6850b",
   "metadata": {},
   "outputs": [],
   "source": []
  }
 ],
 "metadata": {
  "kernelspec": {
   "display_name": "Python 3 (ipykernel)",
   "language": "python",
   "name": "python3"
  },
  "language_info": {
   "codemirror_mode": {
    "name": "ipython",
    "version": 3
   },
   "file_extension": ".py",
   "mimetype": "text/x-python",
   "name": "python",
   "nbconvert_exporter": "python",
   "pygments_lexer": "ipython3",
   "version": "3.9.13"
  }
 },
 "nbformat": 4,
 "nbformat_minor": 5
}
